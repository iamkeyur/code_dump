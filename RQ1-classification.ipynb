{
 "cells": [
  {
   "cell_type": "markdown",
   "metadata": {},
   "source": [
    "# Script to classify (binary problem) First time issues vs the rest"
   ]
  },
  {
   "cell_type": "code",
   "execution_count": 1,
   "metadata": {},
   "outputs": [],
   "source": [
    "import pandas as pd\n",
    "import os.path\n",
    "import numpy as np\n",
    "\n",
    "# Experiment setup\n",
    "from sklearn.model_selection import train_test_split, cross_val_score, cross_val_predict, GridSearchCV, RandomizedSearchCV\n",
    "from scipy.stats import randint\n",
    "from sklearn.metrics import classification_report, precision_recall_fscore_support\n",
    "from sklearn import metrics\n",
    "\n",
    "# classifier\n",
    "from sklearn.svm import SVC\n",
    "from sklearn.ensemble import RandomForestClassifier\n",
    "from sklearn.naive_bayes import GaussianNB\n",
    "from sklearn.tree import DecisionTreeClassifier"
   ]
  },
  {
   "cell_type": "code",
   "execution_count": 2,
   "metadata": {},
   "outputs": [],
   "source": [
    "file_name = 'qt-dataset.csv'"
   ]
  },
  {
   "cell_type": "code",
   "execution_count": 3,
   "metadata": {},
   "outputs": [],
   "source": [
    "df = pd.DataFrame.from_csv(file_name)"
   ]
  },
  {
   "cell_type": "code",
   "execution_count": 4,
   "metadata": {},
   "outputs": [],
   "source": [
    "df.rename(columns={'fit':'fit_feature'}, inplace=True)  # this bow feature needs to be renamed because it will be interpreted as a function call otherwise"
   ]
  },
  {
   "cell_type": "code",
   "execution_count": 5,
   "metadata": {},
   "outputs": [],
   "source": [
    "classes = ['class_first_issue', 'class_first_five_issues', 'class_first_ten_issues']\n",
    "\n",
    "target_class = classes[0]"
   ]
  },
  {
   "cell_type": "code",
   "execution_count": 6,
   "metadata": {},
   "outputs": [],
   "source": [
    "classifiers = ['rf', 'dt', 'nb', 'svm']\n",
    "\n",
    "classifier = classifiers[0]"
   ]
  },
  {
   "cell_type": "code",
   "execution_count": 7,
   "metadata": {},
   "outputs": [],
   "source": [
    "########## SUMMARY ###########\n",
    "# 1. get data of both classes\n",
    "#   1.1 get true instances \n",
    "#   1.2 get false instances \n",
    "# 2. undersample false instances\n",
    "# 3. combine the data of the true instances with the undersampled false instances\n",
    "# 4. test and train sample\n",
    "# 5. oversample the true sample\n",
    "##############################\n",
    "\n",
    "\n",
    "# 1. get data of both classes\n",
    "#   1.1 get true instances \n",
    "df_to_oversample = df[df[target_class]==1]\n",
    "\n",
    "#   1.2 get false instances\n",
    "df_to_undersample = df[df[target_class]==0]\n",
    "\n",
    "\n",
    "# 2. undersample false instances\n",
    "target_sample_size = len(df_to_oversample)*2  # since we oversample the true class by duplicating, we undersample the false class to two times the number of the true class\n",
    "df_undersampled = df_to_undersample.sample(n=target_sample_size)\n",
    "\n",
    "\n",
    "# 3. combine the data of the true instances with the undersampled false instances\n",
    "data_set = df_to_oversample.append(df_undersampled)\n",
    "data_set = data_set.sample(frac=1)\n",
    "\n",
    "\n",
    "# 4. test and train sample\n",
    "train, test = train_test_split(data_set, test_size=0.15)\n",
    "\n",
    "\n",
    "# 5. oversample the true sample (IMPORTANT: oversample only the remaining rows, that are not part of the test set!)\n",
    "df_to_oversample = train[train[target_class]==1]\n",
    "train = train.append(df_to_oversample)\n",
    "\n",
    "# clear memory\n",
    "del df_to_oversample, df_to_undersample, df_undersampled"
   ]
  },
  {
   "cell_type": "code",
   "execution_count": 8,
   "metadata": {},
   "outputs": [],
   "source": [
    "########## SUMMARY ###########\n",
    "# 1. define columns we do not want to be part in the classification process\n",
    "# 2. create train data and labels\n",
    "# 3. create test data and labels\n",
    "##############################\n",
    "\n",
    "\n",
    "# 1. define columns we do not want to be part in the classification process\n",
    "columns_to_drop = classes + ['assignee', 'resolution_date', 'issue_description']\n",
    "\n",
    "# 2. create train data and labels\n",
    "train_data = train.drop(columns_to_drop, axis=1)\n",
    "train_label = train[target_class]\n",
    "\n",
    "# 3. create test data and labels\n",
    "test_data = test.drop(columns_to_drop, axis=1)\n",
    "test_label = test[target_class]"
   ]
  },
  {
   "cell_type": "code",
   "execution_count": 9,
   "metadata": {},
   "outputs": [],
   "source": [
    "########## SUMMARY ###########\n",
    "# Classification Benchmark\n",
    "# 1. define hyper-parameter ranges\n",
    "# 2. run random search\n",
    "# 3. print results\n",
    "##############################\n",
    "\n",
    "# 1. define hyper-parameter ranges\n",
    "if classifier == 'rf':\n",
    "    tuned_parameters = {'n_estimators': [1, 10, 100, 1000, 3000], 'max_features': ['auto', 'sqrt', 'log2', None]}\n",
    "    rfc = RandomForestClassifier()\n",
    "elif classifier == 'svm':\n",
    "    tuned_parameters = {'C': [1, 10, 100, 1000], 'gamma': [0.001, 0.0001], 'kernel': ['rbf', 'linear']}\n",
    "    rfc = SVC()\n",
    "elif classifier == 'dt':\n",
    "     tuned_parameters = {'criterion':['gini', 'entropy'], 'splitter': ['best', 'random'], 'min_samples_split':2, 'min_samples_leaf': 1}\n",
    "    rfc = DecisionTreeClassifier()\n",
    "elif classifier == 'nb':\n",
    "    tuned_parameters = {}\n",
    "    rfc = GaussianNB()"
   ]
  },
  {
   "cell_type": "code",
   "execution_count": null,
   "metadata": {},
   "outputs": [],
   "source": [
    "clf = GridSearchCV(rfc, tuned_parameters, cv=10, scoring='%s_macro' % \"precision\", n_jobs=38)\n",
    "clf.fit(train_data, train_label)\n",
    "\n",
    "# 3. print results\n",
    "print('Classification Results:')\n",
    "print('target class:', target_class)\n",
    "print(clf.best_params_)\n",
    "y_true, y_pred = test_label, clf.predict(test_data)\n",
    "result = precision_recall_fscore_support(y_true, y_pred, average=\"binary\", pos_label=1)\n",
    "print(result)"
   ]
  },
  {
   "cell_type": "code",
   "execution_count": null,
   "metadata": {},
   "outputs": [],
   "source": [
    "# store the results\n",
    "file_name_results = 'classification_results.csv'\n",
    "\n",
    "\n",
    "d = {'___classifier': rfc.__class__.__name__, '__target_class': target_class, '_precision': result[0], '_recall': result[1], '_f1-score': result[2]}\n",
    "if clf.best_params_:\n",
    "    d.update(clf.best_params_)\n",
    "\n",
    "if os.path.exists(file_name_results):\n",
    "    df_result = pd.DataFrame.from_csv(file_name_results)\n",
    "    df_result = df_result.append(d, ignore_index=True)\n",
    "else:\n",
    "    df_result = pd.DataFrame(d, index=[0])\n",
    "\n",
    "df_result.to_csv(file_name_results)"
   ]
  },
  {
   "cell_type": "code",
   "execution_count": null,
   "metadata": {},
   "outputs": [],
   "source": [
    "df_result = pd.DataFrame.from_csv(file_name_results)"
   ]
  },
  {
   "cell_type": "code",
   "execution_count": null,
   "metadata": {},
   "outputs": [],
   "source": [
    "df_result.sort_values(by=['_precision'], inplace=True, ascending=False)"
   ]
  },
  {
   "cell_type": "code",
   "execution_count": null,
   "metadata": {},
   "outputs": [],
   "source": [
    "df_result.head(3)"
   ]
  }
 ],
 "metadata": {
  "kernelspec": {
   "display_name": "Python 3",
   "language": "python",
   "name": "python3"
  },
  "language_info": {
   "codemirror_mode": {
    "name": "ipython",
    "version": 3
   },
   "file_extension": ".py",
   "mimetype": "text/x-python",
   "name": "python",
   "nbconvert_exporter": "python",
   "pygments_lexer": "ipython3",
   "version": "3.6.1"
  }
 },
 "nbformat": 4,
 "nbformat_minor": 2
}
